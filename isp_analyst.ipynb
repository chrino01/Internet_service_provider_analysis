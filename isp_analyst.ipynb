{
 "cells": [
  {
   "cell_type": "code",
   "execution_count": 1,
   "metadata": {},
   "outputs": [],
   "source": [
    "import pandas as pd \n",
    "import numpy as np\n",
    "import matplotlib.pyplot as plt\n",
    "import seaborn as sns\n"
   ]
  },
  {
   "cell_type": "markdown",
   "metadata": {},
   "source": [
    "## OBJECTIVE\n",
    "\n",
    "### 1. What is the most reason customers churn the ISP\n",
    "### 2. How to retain old customers to avoid ISP churn\n",
    "### 3. What promotions can be done to attract customers to subscribe to our ISP?"
   ]
  },
  {
   "cell_type": "code",
   "execution_count": 2,
   "metadata": {},
   "outputs": [
    {
     "data": {
      "text/html": [
       "<div>\n",
       "<style scoped>\n",
       "    .dataframe tbody tr th:only-of-type {\n",
       "        vertical-align: middle;\n",
       "    }\n",
       "\n",
       "    .dataframe tbody tr th {\n",
       "        vertical-align: top;\n",
       "    }\n",
       "\n",
       "    .dataframe thead th {\n",
       "        text-align: right;\n",
       "    }\n",
       "</style>\n",
       "<table border=\"1\" class=\"dataframe\">\n",
       "  <thead>\n",
       "    <tr style=\"text-align: right;\">\n",
       "      <th></th>\n",
       "      <th>id</th>\n",
       "      <th>is_tv_subscriber</th>\n",
       "      <th>is_movie_package_subscriber</th>\n",
       "      <th>subscription_age</th>\n",
       "      <th>bill_avg</th>\n",
       "      <th>reamining_contract</th>\n",
       "      <th>service_failure_count</th>\n",
       "      <th>download_avg</th>\n",
       "      <th>upload_avg</th>\n",
       "      <th>download_over_limit</th>\n",
       "      <th>churn</th>\n",
       "    </tr>\n",
       "  </thead>\n",
       "  <tbody>\n",
       "    <tr>\n",
       "      <th>0</th>\n",
       "      <td>15</td>\n",
       "      <td>1</td>\n",
       "      <td>0</td>\n",
       "      <td>11.95</td>\n",
       "      <td>25</td>\n",
       "      <td>0.14</td>\n",
       "      <td>0</td>\n",
       "      <td>8.4</td>\n",
       "      <td>2.3</td>\n",
       "      <td>0</td>\n",
       "      <td>0</td>\n",
       "    </tr>\n",
       "    <tr>\n",
       "      <th>1</th>\n",
       "      <td>18</td>\n",
       "      <td>0</td>\n",
       "      <td>0</td>\n",
       "      <td>8.22</td>\n",
       "      <td>0</td>\n",
       "      <td>NaN</td>\n",
       "      <td>0</td>\n",
       "      <td>0.0</td>\n",
       "      <td>0.0</td>\n",
       "      <td>0</td>\n",
       "      <td>1</td>\n",
       "    </tr>\n",
       "    <tr>\n",
       "      <th>2</th>\n",
       "      <td>23</td>\n",
       "      <td>1</td>\n",
       "      <td>0</td>\n",
       "      <td>8.91</td>\n",
       "      <td>16</td>\n",
       "      <td>0.00</td>\n",
       "      <td>0</td>\n",
       "      <td>13.7</td>\n",
       "      <td>0.9</td>\n",
       "      <td>0</td>\n",
       "      <td>1</td>\n",
       "    </tr>\n",
       "    <tr>\n",
       "      <th>3</th>\n",
       "      <td>27</td>\n",
       "      <td>0</td>\n",
       "      <td>0</td>\n",
       "      <td>6.87</td>\n",
       "      <td>21</td>\n",
       "      <td>NaN</td>\n",
       "      <td>1</td>\n",
       "      <td>0.0</td>\n",
       "      <td>0.0</td>\n",
       "      <td>0</td>\n",
       "      <td>1</td>\n",
       "    </tr>\n",
       "    <tr>\n",
       "      <th>4</th>\n",
       "      <td>34</td>\n",
       "      <td>0</td>\n",
       "      <td>0</td>\n",
       "      <td>6.39</td>\n",
       "      <td>0</td>\n",
       "      <td>NaN</td>\n",
       "      <td>0</td>\n",
       "      <td>0.0</td>\n",
       "      <td>0.0</td>\n",
       "      <td>0</td>\n",
       "      <td>1</td>\n",
       "    </tr>\n",
       "  </tbody>\n",
       "</table>\n",
       "</div>"
      ],
      "text/plain": [
       "   id  is_tv_subscriber  is_movie_package_subscriber  subscription_age  \\\n",
       "0  15                 1                            0             11.95   \n",
       "1  18                 0                            0              8.22   \n",
       "2  23                 1                            0              8.91   \n",
       "3  27                 0                            0              6.87   \n",
       "4  34                 0                            0              6.39   \n",
       "\n",
       "   bill_avg  reamining_contract  service_failure_count  download_avg  \\\n",
       "0        25                0.14                      0           8.4   \n",
       "1         0                 NaN                      0           0.0   \n",
       "2        16                0.00                      0          13.7   \n",
       "3        21                 NaN                      1           0.0   \n",
       "4         0                 NaN                      0           0.0   \n",
       "\n",
       "   upload_avg  download_over_limit  churn  \n",
       "0         2.3                    0      0  \n",
       "1         0.0                    0      1  \n",
       "2         0.9                    0      1  \n",
       "3         0.0                    0      1  \n",
       "4         0.0                    0      1  "
      ]
     },
     "execution_count": 2,
     "metadata": {},
     "output_type": "execute_result"
    }
   ],
   "source": [
    "df = pd.read_csv(\"../../dataset/internet_service_churn.csv\")\n",
    "df.head()"
   ]
  },
  {
   "cell_type": "markdown",
   "metadata": {},
   "source": [
    "## Description of columns\n",
    "\n",
    "Introduction to data¶\n",
    "The dataset consist of the following features: 1) is_tv_subscriber customer - has a tv subscription ?\n",
    "\n",
    "2) is_movie_package_subscriber?\n",
    "\n",
    "3) subscription_age - how many year has the customer use our service\n",
    "\n",
    "4) bill_avg - last 3 months bill avg\n",
    "\n",
    "5) reamining_contract - how many year remaining for customer contract. If null; customer didn't have a contract. the customer who has a contract time have to use their service until contract end.if they canceled their service before contract time end they pay a penalty fare.\n",
    "\n",
    "Two ways in which a customer could be using the services. One through a time-bound contract which costs less and another through a normal monthly subscription which obviously costs more. So, even if a person is not in a contract, he's still a user who's paying monthly fees.\n",
    "\n",
    "6) service_failure_count customer - call count to call center for service failure for last 3 months\n",
    "\n",
    "7) download_avg - last 3 months internet usage (GB)\n",
    "\n",
    "8) upload_avg last - 3 months upload avg (GB)\n",
    "\n",
    "9) download_over_limit - most of customer has a download limit. if they reach this limit they have to pay for this. this column contain \"limit over count\" for last 9 months\n",
    "\n",
    "10) churn - this is the target column. if 1 customer canceled his service"
   ]
  },
  {
   "cell_type": "code",
   "execution_count": 3,
   "metadata": {},
   "outputs": [
    {
     "name": "stdout",
     "output_type": "stream",
     "text": [
      "<class 'pandas.core.frame.DataFrame'>\n",
      "RangeIndex: 72274 entries, 0 to 72273\n",
      "Data columns (total 11 columns):\n",
      " #   Column                       Non-Null Count  Dtype  \n",
      "---  ------                       --------------  -----  \n",
      " 0   id                           72274 non-null  int64  \n",
      " 1   is_tv_subscriber             72274 non-null  int64  \n",
      " 2   is_movie_package_subscriber  72274 non-null  int64  \n",
      " 3   subscription_age             72274 non-null  float64\n",
      " 4   bill_avg                     72274 non-null  int64  \n",
      " 5   reamining_contract           50702 non-null  float64\n",
      " 6   service_failure_count        72274 non-null  int64  \n",
      " 7   download_avg                 71893 non-null  float64\n",
      " 8   upload_avg                   71893 non-null  float64\n",
      " 9   download_over_limit          72274 non-null  int64  \n",
      " 10  churn                        72274 non-null  int64  \n",
      "dtypes: float64(4), int64(7)\n",
      "memory usage: 6.1 MB\n"
     ]
    }
   ],
   "source": [
    "df.info()"
   ]
  },
  {
   "cell_type": "code",
   "execution_count": 4,
   "metadata": {},
   "outputs": [
    {
     "data": {
      "text/plain": [
       "(72274, 11)"
      ]
     },
     "execution_count": 4,
     "metadata": {},
     "output_type": "execute_result"
    }
   ],
   "source": [
    "df.shape"
   ]
  },
  {
   "cell_type": "markdown",
   "metadata": {},
   "source": [
    "## cleaning data"
   ]
  },
  {
   "cell_type": "code",
   "execution_count": 5,
   "metadata": {},
   "outputs": [
    {
     "data": {
      "text/plain": [
       "id                                 0\n",
       "is_tv_subscriber                   0\n",
       "is_movie_package_subscriber        0\n",
       "subscription_age                   0\n",
       "bill_avg                           0\n",
       "reamining_contract             21572\n",
       "service_failure_count              0\n",
       "download_avg                     381\n",
       "upload_avg                       381\n",
       "download_over_limit                0\n",
       "churn                              0\n",
       "dtype: int64"
      ]
     },
     "execution_count": 5,
     "metadata": {},
     "output_type": "execute_result"
    }
   ],
   "source": [
    "df.isnull().sum()"
   ]
  },
  {
   "cell_type": "code",
   "execution_count": 6,
   "metadata": {},
   "outputs": [],
   "source": [
    "df.replace(np.nan,'0',inplace=True)"
   ]
  },
  {
   "cell_type": "code",
   "execution_count": 7,
   "metadata": {},
   "outputs": [
    {
     "data": {
      "text/plain": [
       "id                             0\n",
       "is_tv_subscriber               0\n",
       "is_movie_package_subscriber    0\n",
       "subscription_age               0\n",
       "bill_avg                       0\n",
       "reamining_contract             0\n",
       "service_failure_count          0\n",
       "download_avg                   0\n",
       "upload_avg                     0\n",
       "download_over_limit            0\n",
       "churn                          0\n",
       "dtype: int64"
      ]
     },
     "execution_count": 7,
     "metadata": {},
     "output_type": "execute_result"
    }
   ],
   "source": [
    "df.isnull().sum()"
   ]
  },
  {
   "cell_type": "code",
   "execution_count": 8,
   "metadata": {},
   "outputs": [
    {
     "data": {
      "text/html": [
       "<div>\n",
       "<style scoped>\n",
       "    .dataframe tbody tr th:only-of-type {\n",
       "        vertical-align: middle;\n",
       "    }\n",
       "\n",
       "    .dataframe tbody tr th {\n",
       "        vertical-align: top;\n",
       "    }\n",
       "\n",
       "    .dataframe thead th {\n",
       "        text-align: right;\n",
       "    }\n",
       "</style>\n",
       "<table border=\"1\" class=\"dataframe\">\n",
       "  <thead>\n",
       "    <tr style=\"text-align: right;\">\n",
       "      <th></th>\n",
       "      <th>id</th>\n",
       "      <th>is_tv_subscriber</th>\n",
       "      <th>is_movie_package_subscriber</th>\n",
       "      <th>subscription_age</th>\n",
       "      <th>bill_avg</th>\n",
       "      <th>reamining_contract</th>\n",
       "      <th>service_failure_count</th>\n",
       "      <th>download_avg</th>\n",
       "      <th>upload_avg</th>\n",
       "      <th>download_over_limit</th>\n",
       "      <th>churn</th>\n",
       "    </tr>\n",
       "  </thead>\n",
       "  <tbody>\n",
       "    <tr>\n",
       "      <th>0</th>\n",
       "      <td>15</td>\n",
       "      <td>1</td>\n",
       "      <td>0</td>\n",
       "      <td>11.95</td>\n",
       "      <td>25</td>\n",
       "      <td>0.14</td>\n",
       "      <td>0</td>\n",
       "      <td>8.4</td>\n",
       "      <td>2.3</td>\n",
       "      <td>0</td>\n",
       "      <td>0</td>\n",
       "    </tr>\n",
       "    <tr>\n",
       "      <th>1</th>\n",
       "      <td>18</td>\n",
       "      <td>0</td>\n",
       "      <td>0</td>\n",
       "      <td>8.22</td>\n",
       "      <td>0</td>\n",
       "      <td>0</td>\n",
       "      <td>0</td>\n",
       "      <td>0.0</td>\n",
       "      <td>0.0</td>\n",
       "      <td>0</td>\n",
       "      <td>1</td>\n",
       "    </tr>\n",
       "    <tr>\n",
       "      <th>2</th>\n",
       "      <td>23</td>\n",
       "      <td>1</td>\n",
       "      <td>0</td>\n",
       "      <td>8.91</td>\n",
       "      <td>16</td>\n",
       "      <td>0.0</td>\n",
       "      <td>0</td>\n",
       "      <td>13.7</td>\n",
       "      <td>0.9</td>\n",
       "      <td>0</td>\n",
       "      <td>1</td>\n",
       "    </tr>\n",
       "    <tr>\n",
       "      <th>3</th>\n",
       "      <td>27</td>\n",
       "      <td>0</td>\n",
       "      <td>0</td>\n",
       "      <td>6.87</td>\n",
       "      <td>21</td>\n",
       "      <td>0</td>\n",
       "      <td>1</td>\n",
       "      <td>0.0</td>\n",
       "      <td>0.0</td>\n",
       "      <td>0</td>\n",
       "      <td>1</td>\n",
       "    </tr>\n",
       "    <tr>\n",
       "      <th>4</th>\n",
       "      <td>34</td>\n",
       "      <td>0</td>\n",
       "      <td>0</td>\n",
       "      <td>6.39</td>\n",
       "      <td>0</td>\n",
       "      <td>0</td>\n",
       "      <td>0</td>\n",
       "      <td>0.0</td>\n",
       "      <td>0.0</td>\n",
       "      <td>0</td>\n",
       "      <td>1</td>\n",
       "    </tr>\n",
       "  </tbody>\n",
       "</table>\n",
       "</div>"
      ],
      "text/plain": [
       "   id  is_tv_subscriber  is_movie_package_subscriber  subscription_age  \\\n",
       "0  15                 1                            0             11.95   \n",
       "1  18                 0                            0              8.22   \n",
       "2  23                 1                            0              8.91   \n",
       "3  27                 0                            0              6.87   \n",
       "4  34                 0                            0              6.39   \n",
       "\n",
       "   bill_avg reamining_contract  service_failure_count download_avg upload_avg  \\\n",
       "0        25               0.14                      0          8.4        2.3   \n",
       "1         0                  0                      0          0.0        0.0   \n",
       "2        16                0.0                      0         13.7        0.9   \n",
       "3        21                  0                      1          0.0        0.0   \n",
       "4         0                  0                      0          0.0        0.0   \n",
       "\n",
       "   download_over_limit  churn  \n",
       "0                    0      0  \n",
       "1                    0      1  \n",
       "2                    0      1  \n",
       "3                    0      1  \n",
       "4                    0      1  "
      ]
     },
     "execution_count": 8,
     "metadata": {},
     "output_type": "execute_result"
    }
   ],
   "source": [
    "df.head()"
   ]
  },
  {
   "cell_type": "markdown",
   "metadata": {},
   "source": [
    "## Exploratory Data Analysis"
   ]
  },
  {
   "cell_type": "code",
   "execution_count": 9,
   "metadata": {},
   "outputs": [
    {
     "name": "stderr",
     "output_type": "stream",
     "text": [
      "C:\\Users\\chris\\AppData\\Local\\Temp\\ipykernel_15368\\90348822.py:4: FutureWarning: \n",
      "\n",
      "Passing `palette` without assigning `hue` is deprecated and will be removed in v0.14.0. Assign the `x` variable to `hue` and set `legend=False` for the same effect.\n",
      "\n",
      "  sns.countplot(x = 'churn',data=df,palette='hls')\n"
     ]
    },
    {
     "data": {
      "image/png": "[encoded data removed]",
      "text/plain": [
       "<Figure size 600x400 with 1 Axes>"
      ]
     },
     "metadata": {},
     "output_type": "display_data"
    }
   ],
   "source": [
    "# See the graphic comparison of customer who churn and not churn\n",
    "\n",
    "plt.figure(figsize=(6,4))\n",
    "sns.countplot(x = 'churn',data=df,palette='hls')\n",
    "plt.title('Comparison  Churn Customer ')\n",
    "plt.show()"
   ]
  },
  {
   "cell_type": "markdown",
   "metadata": {},
   "source": [
    "From the Plot the churn customer is more than customer who still subscribe \n",
    "\n",
    "This is not good condition for the isp company so we must find what the reason make customers want to churn the ISP"
   ]
  },
  {
   "cell_type": "code",
   "execution_count": 10,
   "metadata": {},
   "outputs": [
    {
     "data": {
      "text/plain": [
       "Index(['id', 'is_tv_subscriber', 'is_movie_package_subscriber',\n",
       "       'subscription_age', 'bill_avg', 'reamining_contract',\n",
       "       'service_failure_count', 'download_avg', 'upload_avg',\n",
       "       'download_over_limit', 'churn'],\n",
       "      dtype='object')"
      ]
     },
     "execution_count": 10,
     "metadata": {},
     "output_type": "execute_result"
    }
   ],
   "source": [
    "df.columns"
   ]
  },
  {
   "cell_type": "code",
   "execution_count": 11,
   "metadata": {},
   "outputs": [
    {
     "data": {
      "text/plain": [
       "is_tv_subscriber               58922\n",
       "is_movie_package_subscriber    24185\n",
       "dtype: int64"
      ]
     },
     "execution_count": 11,
     "metadata": {},
     "output_type": "execute_result"
    }
   ],
   "source": [
    "## lets see column is_tv_subscribe and package_subscribe\n",
    "\n",
    "df_subscribe = df[['is_tv_subscriber','is_movie_package_subscriber']].sum()\n",
    "df_subscribe"
   ]
  },
  {
   "cell_type": "code",
   "execution_count": 12,
   "metadata": {},
   "outputs": [
    {
     "data": {
      "text/plain": [
       "is_tv_subscriber  is_movie_package_subscriber\n",
       "0                 0                              13350\n",
       "                  1                                  2\n",
       "1                 0                              34739\n",
       "                  1                              24183\n",
       "Name: count, dtype: int64"
      ]
     },
     "execution_count": 12,
     "metadata": {},
     "output_type": "execute_result"
    }
   ],
   "source": [
    "df.groupby('is_tv_subscriber')['is_movie_package_subscriber'].value_counts()"
   ]
  },
  {
   "cell_type": "markdown",
   "metadata": {},
   "source": [
    "* Many customers don't subscribe to TV and don't subscribe to movies either\n",
    "* Also a lot customers subscribe tv but don't subscribe movie\n",
    "* and there are still quite a lot who subscribe movie and tv \n",
    "\n",
    "So from the analyst we know that most the customer have a subscribe to tv or movie or both of them. Now we see with a graphic is the two of the columns have a big impact to churn.\n",
    " "
   ]
  },
  {
   "cell_type": "code",
   "execution_count": 13,
   "metadata": {},
   "outputs": [
    {
     "data": {
      "text/plain": [
       "is_tv_subscriber\n",
       "1    58922\n",
       "0    13352\n",
       "Name: count, dtype: int64"
      ]
     },
     "execution_count": 13,
     "metadata": {},
     "output_type": "execute_result"
    }
   ],
   "source": [
    "tv_count = df.is_tv_subscriber.value_counts()\n",
    "tv_count"
   ]
  },
  {
   "cell_type": "code",
   "execution_count": 14,
   "metadata": {},
   "outputs": [
    {
     "name": "stderr",
     "output_type": "stream",
     "text": [
      "C:\\Users\\chris\\AppData\\Local\\Temp\\ipykernel_15368\\1098717500.py:4: FutureWarning: \n",
      "\n",
      "Passing `palette` without assigning `hue` is deprecated and will be removed in v0.14.0. Assign the `x` variable to `hue` and set `legend=False` for the same effect.\n",
      "\n",
      "  sns.barplot(x='churn', y = df['is_tv_subscriber'].value_counts(),data=df,palette='hls')\n"
     ]
    },
    {
     "data": {
      "image/png": "[encoded data removed]",
      "text/plain": [
       "<Figure size 600x400 with 1 Axes>"
      ]
     },
     "metadata": {},
     "output_type": "display_data"
    }
   ],
   "source": [
    "## tv subscribe and churn\n",
    "\n",
    "plt.figure(figsize=(6,4))\n",
    "sns.barplot(x='churn', y = df['is_tv_subscriber'].value_counts(),data=df,palette='hls')\n",
    "plt.xlabel('Churn')\n",
    "plt.ylabel('Count of subscribe tv or not')\n",
    "plt.title('Comparison customers churn by tv subscribe')\n",
    "plt.show()"
   ]
  },
  {
   "cell_type": "markdown",
   "metadata": {},
   "source": [
    "* From the barplot we know that subscribe tv column is An important feature of churn on an ISP\n",
    "* because from the graph the imbalance of customers who subscribe to TV then churn is much higher than customers who subscribe to TV but don't churn"
   ]
  },
  {
   "cell_type": "code",
   "execution_count": 15,
   "metadata": {},
   "outputs": [
    {
     "name": "stderr",
     "output_type": "stream",
     "text": [
      "C:\\Users\\chris\\AppData\\Local\\Temp\\ipykernel_15368\\3825384812.py:4: FutureWarning: \n",
      "\n",
      "Passing `palette` without assigning `hue` is deprecated and will be removed in v0.14.0. Assign the `x` variable to `hue` and set `legend=False` for the same effect.\n",
      "\n",
      "  sns.barplot(x='churn', y = df['is_movie_package_subscriber'].value_counts(),data=df,palette='hls')\n"
     ]
    },
    {
     "data": {
      "image/png": "[encoded data removed]",
      "text/plain": [
       "<Figure size 600x400 with 1 Axes>"
      ]
     },
     "metadata": {},
     "output_type": "display_data"
    }
   ],
   "source": [
    "## movie subscribe and churn\n",
    "\n",
    "plt.figure(figsize=(6,4))\n",
    "sns.barplot(x='churn', y = df['is_movie_package_subscriber'].value_counts(),data=df,palette='hls')\n",
    "plt.xlabel('Churn')\n",
    "plt.ylabel('Count of subscribe movie or not')\n",
    "plt.title('Comparison customers churn by movie subscribe')\n",
    "plt.show()"
   ]
  },
  {
   "cell_type": "markdown",
   "metadata": {},
   "source": [
    "* for the bar plot of movie subscribed customers, there are still more customers who subscribe but don't churn than there are customers who subscribe to movies but churn.\n",
    "\n",
    "* However, it should be noted that the number of customers who churn is still quite large because almost half of the total customers who do not churn. \n",
    "\n",
    "* So it's possible that this feature/column also has an influence on customer churn"
   ]
  },
  {
   "cell_type": "code",
   "execution_count": 16,
   "metadata": {},
   "outputs": [
    {
     "data": {
      "text/plain": [
       "Index(['id', 'is_tv_subscriber', 'is_movie_package_subscriber',\n",
       "       'subscription_age', 'bill_avg', 'reamining_contract',\n",
       "       'service_failure_count', 'download_avg', 'upload_avg',\n",
       "       'download_over_limit', 'churn'],\n",
       "      dtype='object')"
      ]
     },
     "execution_count": 16,
     "metadata": {},
     "output_type": "execute_result"
    }
   ],
   "source": [
    "df.columns "
   ]
  },
  {
   "cell_type": "code",
   "execution_count": 17,
   "metadata": {},
   "outputs": [
    {
     "data": {
      "text/plain": [
       "0        11.95\n",
       "1         8.22\n",
       "2         8.91\n",
       "3         6.87\n",
       "4         6.39\n",
       "         ...  \n",
       "72269     0.09\n",
       "72270     0.06\n",
       "72271     0.02\n",
       "72272     0.01\n",
       "72273     0.01\n",
       "Name: subscription_age, Length: 72274, dtype: float64"
      ]
     },
     "execution_count": 17,
     "metadata": {},
     "output_type": "execute_result"
    }
   ],
   "source": [
    "df.subscription_age"
   ]
  },
  {
   "cell_type": "code",
   "execution_count": 19,
   "metadata": {},
   "outputs": [
    {
     "name": "stderr",
     "output_type": "stream",
     "text": [
      "C:\\Users\\chris\\AppData\\Local\\Temp\\ipykernel_15368\\45602231.py:5: FutureWarning: \n",
      "\n",
      "Passing `palette` without assigning `hue` is deprecated and will be removed in v0.14.0. Assign the `x` variable to `hue` and set `legend=False` for the same effect.\n",
      "\n",
      "  sns.violinplot(x='churn', y ='subscription_age' ,data=df,palette='hls')\n"
     ]
    },
    {
     "data": {
      "image/png": "[encoded data removed]",
      "text/plain": [
       "<Figure size 600x400 with 1 Axes>"
      ]
     },
     "metadata": {},
     "output_type": "display_data"
    }
   ],
   "source": [
    "# subscription age analysis\n",
    "## movie subscribe and churn\n",
    "\n",
    "plt.figure(figsize=(6,4))\n",
    "sns.violinplot(x='churn', y ='subscription_age' ,data=df,palette='hls')\n",
    "plt.xlabel('Churn')\n",
    "plt.ylabel('Age of Subscription')\n",
    "plt.title('Churn or not by age subscription')\n",
    "plt.show()"
   ]
  },
  {
   "cell_type": "markdown",
   "metadata": {},
   "source": [
    "From the Violin plot, it can be seen that customers who churn are customers who have subscribed for around 1 to 3 years"
   ]
  },
  {
   "cell_type": "code",
   "execution_count": 21,
   "metadata": {},
   "outputs": [
    {
     "data": {
      "image/png": "[encoded data removed]",
      "text/plain": [
       "<Figure size 1000x600 with 1 Axes>"
      ]
     },
     "metadata": {},
     "output_type": "display_data"
    }
   ],
   "source": [
    "plt.figure(figsize = (10,6))\n",
    "sns.histplot(data = df, x= 'subscription_age', kde = True, hue = 'churn')\n",
    "plt.title('Subscription Age vs Count')\n",
    "plt.show()"
   ]
  },
  {
   "cell_type": "markdown",
   "metadata": {},
   "source": [
    "* With the histogram diagram, it can be clearly seen that customers with the highest churn are in the second year they subscribe\n",
    "* However, it can also be seen that the distribution between customers who churn and not in the first to third years is quite even. And for customers who have exceeded their third year of subscription, there is rarely or even no churn"
   ]
  },
  {
   "cell_type": "markdown",
   "metadata": {},
   "source": [
    "#### Lets filter the customer who churn by age subscription an analyzed it more detail"
   ]
  },
  {
   "cell_type": "code",
   "execution_count": 23,
   "metadata": {},
   "outputs": [
    {
     "data": {
      "text/html": [
       "<div>\n",
       "<style scoped>\n",
       "    .dataframe tbody tr th:only-of-type {\n",
       "        vertical-align: middle;\n",
       "    }\n",
       "\n",
       "    .dataframe tbody tr th {\n",
       "        vertical-align: top;\n",
       "    }\n",
       "\n",
       "    .dataframe thead th {\n",
       "        text-align: right;\n",
       "    }\n",
       "</style>\n",
       "<table border=\"1\" class=\"dataframe\">\n",
       "  <thead>\n",
       "    <tr style=\"text-align: right;\">\n",
       "      <th></th>\n",
       "      <th>id</th>\n",
       "      <th>is_tv_subscriber</th>\n",
       "      <th>is_movie_package_subscriber</th>\n",
       "      <th>subscription_age</th>\n",
       "      <th>bill_avg</th>\n",
       "      <th>reamining_contract</th>\n",
       "      <th>service_failure_count</th>\n",
       "      <th>download_avg</th>\n",
       "      <th>upload_avg</th>\n",
       "      <th>download_over_limit</th>\n",
       "      <th>churn</th>\n",
       "    </tr>\n",
       "  </thead>\n",
       "  <tbody>\n",
       "    <tr>\n",
       "      <th>1</th>\n",
       "      <td>18</td>\n",
       "      <td>0</td>\n",
       "      <td>0</td>\n",
       "      <td>8.22</td>\n",
       "      <td>0</td>\n",
       "      <td>0</td>\n",
       "      <td>0</td>\n",
       "      <td>0.0</td>\n",
       "      <td>0.0</td>\n",
       "      <td>0</td>\n",
       "      <td>1</td>\n",
       "    </tr>\n",
       "    <tr>\n",
       "      <th>2</th>\n",
       "      <td>23</td>\n",
       "      <td>1</td>\n",
       "      <td>0</td>\n",
       "      <td>8.91</td>\n",
       "      <td>16</td>\n",
       "      <td>0.0</td>\n",
       "      <td>0</td>\n",
       "      <td>13.7</td>\n",
       "      <td>0.9</td>\n",
       "      <td>0</td>\n",
       "      <td>1</td>\n",
       "    </tr>\n",
       "    <tr>\n",
       "      <th>3</th>\n",
       "      <td>27</td>\n",
       "      <td>0</td>\n",
       "      <td>0</td>\n",
       "      <td>6.87</td>\n",
       "      <td>21</td>\n",
       "      <td>0</td>\n",
       "      <td>1</td>\n",
       "      <td>0.0</td>\n",
       "      <td>0.0</td>\n",
       "      <td>0</td>\n",
       "      <td>1</td>\n",
       "    </tr>\n",
       "    <tr>\n",
       "      <th>4</th>\n",
       "      <td>34</td>\n",
       "      <td>0</td>\n",
       "      <td>0</td>\n",
       "      <td>6.39</td>\n",
       "      <td>0</td>\n",
       "      <td>0</td>\n",
       "      <td>0</td>\n",
       "      <td>0.0</td>\n",
       "      <td>0.0</td>\n",
       "      <td>0</td>\n",
       "      <td>1</td>\n",
       "    </tr>\n",
       "    <tr>\n",
       "      <th>6</th>\n",
       "      <td>71</td>\n",
       "      <td>0</td>\n",
       "      <td>0</td>\n",
       "      <td>8.96</td>\n",
       "      <td>18</td>\n",
       "      <td>0.0</td>\n",
       "      <td>0</td>\n",
       "      <td>21.3</td>\n",
       "      <td>2.0</td>\n",
       "      <td>0</td>\n",
       "      <td>1</td>\n",
       "    </tr>\n",
       "  </tbody>\n",
       "</table>\n",
       "</div>"
      ],
      "text/plain": [
       "   id  is_tv_subscriber  is_movie_package_subscriber  subscription_age  \\\n",
       "1  18                 0                            0              8.22   \n",
       "2  23                 1                            0              8.91   \n",
       "3  27                 0                            0              6.87   \n",
       "4  34                 0                            0              6.39   \n",
       "6  71                 0                            0              8.96   \n",
       "\n",
       "   bill_avg reamining_contract  service_failure_count download_avg upload_avg  \\\n",
       "1         0                  0                      0          0.0        0.0   \n",
       "2        16                0.0                      0         13.7        0.9   \n",
       "3        21                  0                      1          0.0        0.0   \n",
       "4         0                  0                      0          0.0        0.0   \n",
       "6        18                0.0                      0         21.3        2.0   \n",
       "\n",
       "   download_over_limit  churn  \n",
       "1                    0      1  \n",
       "2                    0      1  \n",
       "3                    0      1  \n",
       "4                    0      1  \n",
       "6                    0      1  "
      ]
     },
     "execution_count": 23,
     "metadata": {},
     "output_type": "execute_result"
    }
   ],
   "source": [
    "df_agesubs = df.loc[df['churn']==1]\n",
    "df_agesubs.head()"
   ]
  },
  {
   "cell_type": "code",
   "execution_count": 24,
   "metadata": {},
   "outputs": [
    {
     "data": {
      "text/plain": [
       "subscription_age\n",
       " 1.98     1047\n",
       " 1.97      655\n",
       " 1.99      379\n",
       " 0.01      337\n",
       " 2.01      317\n",
       "          ... \n",
       " 9.24        1\n",
       " 7.72        1\n",
       " 10.85       1\n",
       " 10.72       1\n",
       "-0.02        1\n",
       "Name: count, Length: 998, dtype: int64"
      ]
     },
     "execution_count": 24,
     "metadata": {},
     "output_type": "execute_result"
    }
   ],
   "source": [
    "df_agesubs.subscription_age.value_counts()"
   ]
  }
 ],
 "metadata": {
  "kernelspec": {
   "display_name": "Python 3",
   "language": "python",
   "name": "python3"
  },
  "language_info": {
   "codemirror_mode": {
    "name": "ipython",
    "version": 3
   },
   "file_extension": ".py",
   "mimetype": "text/x-python",
   "name": "python",
   "nbconvert_exporter": "python",
   "pygments_lexer": "ipython3",
   "version": "3.12.0"
  }
 },
 "nbformat": 4,
 "nbformat_minor": 2
}
